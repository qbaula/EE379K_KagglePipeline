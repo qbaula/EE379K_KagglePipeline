{
 "cells": [
  {
   "cell_type": "code",
   "execution_count": 34,
   "metadata": {
    "collapsed": true
   },
   "outputs": [],
   "source": [
    "import math\n",
    "import pandas as pd\n",
    "import numpy as np\n",
    "\n",
    "import matplotlib.pyplot as plt\n",
    "%matplotlib inline\n",
    "\n",
    "from sklearn.ensemble import RandomForestClassifier, AdaBoostClassifier, ExtraTreesClassifier, BaggingClassifier\n",
    "from sklearn.linear_model import LogisticRegression\n",
    "from xgboost.sklearn import XGBClassifier\n",
    "from sklearn.neighbors import KNeighborsClassifier\n",
    "from sklearn.tree import DecisionTreeClassifier\n",
    "\n",
    "from sklearn.model_selection import GridSearchCV, StratifiedKFold, train_test_split, cross_val_score, cross_val_predict\n",
    "from sklearn import metrics"
   ]
  },
  {
   "cell_type": "markdown",
   "metadata": {},
   "source": [
    "# Load clean training and test data sets"
   ]
  },
  {
   "cell_type": "code",
   "execution_count": 2,
   "metadata": {
    "collapsed": true
   },
   "outputs": [],
   "source": [
    "def load_data (dataset_type):\n",
    "    train = pd.read_csv('../data/processed/train_' + dataset_type + '.csv', index_col=0)\n",
    "    test = pd.read_csv('../data/processed/test_' + dataset_type + '.csv', index_col=0)\n",
    "\n",
    "    y_train = train['Y']\n",
    "    X_train = train.drop (['Y'], axis=1)\n",
    "    \n",
    "    return (train, test, X_train, y_train)\n",
    "\n",
    "def check_missing_values (df):\n",
    "    if df.isnull().any().any() == False:\n",
    "        print ('No missing values')\n",
    "    else:\n",
    "        print ('Contains missing values')"
   ]
  },
  {
   "cell_type": "code",
   "execution_count": 3,
   "metadata": {
    "collapsed": false
   },
   "outputs": [
    {
     "name": "stdout",
     "output_type": "stream",
     "text": [
      "(49998, 28)\n",
      "(50000, 27)\n",
      "No missing values\n"
     ]
    }
   ],
   "source": [
    "train_basic, test_basic, X_train_basic, y_train_basic = load_data('fill')\n",
    "print (train_basic.shape)\n",
    "print (test_basic.shape)\n",
    "check_missing_values (train_basic)"
   ]
  },
  {
   "cell_type": "code",
   "execution_count": 4,
   "metadata": {
    "collapsed": false
   },
   "outputs": [
    {
     "name": "stdout",
     "output_type": "stream",
     "text": [
      "(49998, 28)\n",
      "(50000, 27)\n",
      "Contains missing values\n"
     ]
    }
   ],
   "source": [
    "train_missing, test_missing, X_train_missing, y_train_missing = load_data('missing')\n",
    "print (train_missing.shape)\n",
    "print (test_missing.shape)\n",
    "check_missing_values (train_missing)"
   ]
  },
  {
   "cell_type": "code",
   "execution_count": 31,
   "metadata": {
    "collapsed": false
   },
   "outputs": [
    {
     "name": "stdout",
     "output_type": "stream",
     "text": [
      "(49998, 34)\n",
      "(50000, 33)\n",
      "No missing values\n"
     ]
    }
   ],
   "source": [
    "train_inter, test_inter, X_train_inter, y_train_inter = load_data('inter')\n",
    "print (train_inter.shape)\n",
    "print (test_inter.shape)\n",
    "check_missing_values (train_inter)"
   ]
  },
  {
   "cell_type": "code",
   "execution_count": 41,
   "metadata": {
    "collapsed": false
   },
   "outputs": [
    {
     "name": "stdout",
     "output_type": "stream",
     "text": [
      "(49998, 28)\n",
      "(50000, 27)\n",
      "No missing values\n"
     ]
    }
   ],
   "source": [
    "train_scaled, test_scaled, X_train_scaled, y_train_scaled = load_data('scaled')\n",
    "print (train_scaled.shape)\n",
    "print (test_scaled.shape)\n",
    "check_missing_values (train_scaled)"
   ]
  },
  {
   "cell_type": "code",
   "execution_count": 48,
   "metadata": {
    "collapsed": false
   },
   "outputs": [
    {
     "name": "stdout",
     "output_type": "stream",
     "text": [
      "(49998, 28)\n",
      "(50000, 27)\n",
      "No missing values\n"
     ]
    }
   ],
   "source": [
    "train_log, test_log, X_train_log, y_train_log = load_data('log')\n",
    "print (train_log.shape)\n",
    "print (test_log.shape)\n",
    "check_missing_values (train_log)"
   ]
  },
  {
   "cell_type": "code",
   "execution_count": 5,
   "metadata": {
    "collapsed": true
   },
   "outputs": [],
   "source": [
    "y_train_basic.to_csv('../ensemble/train/y.csv')"
   ]
  },
  {
   "cell_type": "markdown",
   "metadata": {},
   "source": [
    "# Model training functions"
   ]
  },
  {
   "cell_type": "code",
   "execution_count": 6,
   "metadata": {
    "collapsed": false
   },
   "outputs": [],
   "source": [
    "def generate_folds(X, y, splits):\n",
    "    kf = StratifiedKFold(n_splits=splits, shuffle=True, random_state=24601)\n",
    "    folds = list(kf.split(X,y))\n",
    "    \n",
    "    return folds\n",
    "    \n",
    "def train_and_save_preds(model, folds, X_train, y_train, test, csv_name):\n",
    "    # Train model on the folds defined\n",
    "    result = train(model, folds, X_train, y_train, test)\n",
    "        \n",
    "    # Output train predictions to a csv  \n",
    "    train_preds_csv = pd.DataFrame(columns=['Y'], index=X_train.index, data=result['train_preds'])\n",
    "    train_preds_csv.to_csv('../ensemble/train/' + csv_name + '_train.csv')\n",
    "    \n",
    "    # Output test predictions to a csv\n",
    "    test_preds_csv = pd.DataFrame(columns=['Y'], index=test.index, data=result['test_preds'])\n",
    "    test_preds_csv.to_csv('../ensemble/test/' + csv_name + '_test.csv')\n",
    "\n",
    "    print ()\n",
    "    sanity_check (y_train, test_preds_csv)\n",
    "    sanity_check (y_train, train_preds_csv)\n",
    "    \n",
    "    return result['model']\n",
    "\n",
    "def train (model, folds, X, y, T):\n",
    "    \"\"\" Train the model using stratified cross validation.\n",
    "    \n",
    "    Say there are K folds, train the model on (K-1) folds \n",
    "    and predict both on the test set and the holdout fold.\n",
    "    Repeat so that all K folds have been held out once.\n",
    "    \n",
    "    Average all K test predictions to create the final predictions.\n",
    "    Then, combine all the predictions on the held out fold to \n",
    "    create the predictions on the training set. The training set \n",
    "    predictions will be used for the second level training.\n",
    "    \"\"\"\n",
    "    X = np.array(X)\n",
    "    y = np.array(y)\n",
    "    T = np.array(T)\n",
    "        \n",
    "    train_preds = np.zeros(X.shape[0])\n",
    "    test_preds = np.zeros(T.shape[0])\n",
    "    test_preds_i = np.zeros((T.shape[0], len(folds)))\n",
    "    \n",
    "    for i, (train_idx, test_idx) in enumerate(folds):\n",
    "        X_train = X[train_idx]\n",
    "        y_train = y[train_idx]\n",
    "        X_holdout = X[test_idx]\n",
    "        \n",
    "        %time model.fit(X_train, y_train)\n",
    "        \n",
    "        train_preds[test_idx] = model.predict_proba(X_holdout)[:,1]\n",
    "        test_preds_i[:, i] = model.predict_proba(T)[:,1]\n",
    "        \n",
    "    test_preds[:] = test_preds_i.mean(1)\n",
    "        \n",
    "    return {'model':model, 'train_preds':train_preds ,'test_preds':test_preds}"
   ]
  },
  {
   "cell_type": "code",
   "execution_count": 7,
   "metadata": {
    "collapsed": false
   },
   "outputs": [],
   "source": [
    "__folds = generate_folds (X_train_basic, y_train_basic, 5)"
   ]
  },
  {
   "cell_type": "markdown",
   "metadata": {},
   "source": [
    "# Model helper functions"
   ]
  },
  {
   "cell_type": "code",
   "execution_count": 8,
   "metadata": {
    "collapsed": true
   },
   "outputs": [],
   "source": [
    "def cross_val (model, X_train, y_train, n_folds):\n",
    "    cv = cross_val_score (rf_model, X_train, y_train, cv=n_folds, scoring='roc_auc', n_jobs=-1)\n",
    "    print ('Cross validation score:')\n",
    "    print ('\\t' + str(np.mean(cv)) + ' +/- ' + str(np.std(cv)))\n",
    "    print ('Raw: ' + str(cv))\n",
    "    \n",
    "    return cv\n",
    "        \n",
    "def sanity_check (y_train, submission):\n",
    "    print ()\n",
    "    print (\"Sanity Check:\")\n",
    "    print (\"Mean of Y in training data:\", y_train.mean())\n",
    "    print (\"Versus Mean of predicted Y:\", submission['Y'].mean())\n",
    "    print (\"Difference = \", round(abs(y_train.mean() - submission['Y'].mean()),3))\n",
    "    print (\"If these differ by more than 0.01 or so, something may have gone wrong.\")"
   ]
  },
  {
   "cell_type": "markdown",
   "metadata": {},
   "source": [
    "# Random Forest"
   ]
  },
  {
   "cell_type": "code",
   "execution_count": 20,
   "metadata": {
    "collapsed": false
   },
   "outputs": [
    {
     "name": "stdout",
     "output_type": "stream",
     "text": [
      "CPU times: user 2min 19s, sys: 632 ms, total: 2min 20s\n",
      "Wall time: 19 s\n",
      "CPU times: user 2min 44s, sys: 412 ms, total: 2min 45s\n",
      "Wall time: 23.4 s\n",
      "CPU times: user 2min 42s, sys: 288 ms, total: 2min 42s\n",
      "Wall time: 23 s\n",
      "CPU times: user 2min 36s, sys: 268 ms, total: 2min 37s\n",
      "Wall time: 21.6 s\n",
      "CPU times: user 3min 14s, sys: 408 ms, total: 3min 15s\n",
      "Wall time: 26.3 s\n",
      "\n",
      "\n",
      "Sanity Check:\n",
      "Mean of Y in training data: 0.0672226889075563\n",
      "Versus Mean of predicted Y: 0.0665233257651052\n",
      "Difference =  0.001\n",
      "If these differ by more than 0.01 or so, something may have gone wrong.\n",
      "\n",
      "Sanity Check:\n",
      "Mean of Y in training data: 0.0672226889075563\n",
      "Versus Mean of predicted Y: 0.0665348865517918\n",
      "Difference =  0.001\n",
      "If these differ by more than 0.01 or so, something may have gone wrong.\n"
     ]
    }
   ],
   "source": [
    "def rf_base_model():\n",
    "    rf_model = RandomForestClassifier(criterion='entropy', max_depth=10, n_estimators=1000, n_jobs=-1)\n",
    "    rf_model = train_and_save_preds(rf_model, __folds, \n",
    "                                    X_train_basic, y_train_basic, \n",
    "                                    test_basic, 'RandomForest')\n",
    "    return rf_model\n",
    "\n",
    "rf_model = rf_base_model()"
   ]
  },
  {
   "cell_type": "code",
   "execution_count": 100,
   "metadata": {
    "collapsed": false
   },
   "outputs": [
    {
     "name": "stdout",
     "output_type": "stream",
     "text": [
      "Cross validation results:\n",
      "\t0.859302094507 +/- 0.00717215755717\n",
      "Raw: [ 0.84927165  0.86539933  0.8648292   0.86512308  0.85188722]\n"
     ]
    }
   ],
   "source": [
    "rf_cv = cross_val (rf_model, X_train_basic, y_train_basic, 5)"
   ]
  },
  {
   "cell_type": "code",
   "execution_count": 21,
   "metadata": {
    "collapsed": false
   },
   "outputs": [
    {
     "data": {
      "text/plain": [
       "<matplotlib.axes._subplots.AxesSubplot at 0xa76bb46c>"
      ]
     },
     "execution_count": 21,
     "metadata": {},
     "output_type": "execute_result"
    },
    {
     "data": {
      "image/png": "[encoded data removed]",
      "text/plain": [
       "<matplotlib.figure.Figure at 0xa76acfec>"
      ]
     },
     "metadata": {},
     "output_type": "display_data"
    }
   ],
   "source": [
    "pd.Series(index=X_train_basic.columns, data=rf_model.feature_importances_).sort_values().plot(kind='barh', title='Variable Importances')"
   ]
  },
  {
   "cell_type": "markdown",
   "metadata": {},
   "source": [
    "# XGBoost"
   ]
  },
  {
   "cell_type": "code",
   "execution_count": 24,
   "metadata": {
    "collapsed": false
   },
   "outputs": [],
   "source": [
    "def xgb_base_model(X, y, T, name):\n",
    "    xgb_model = XGBClassifier(max_depth=6, n_estimators=100, subsample=1,\n",
    "                              learning_rate=0.1, gamma=5, reg_lambda=10, \n",
    "                              objective='binary:logistic', silent=1, \n",
    "                              colsample_bytree=0.9, colsample_bylevel=0.25)\n",
    "    train_and_save_preds(xgb_model, __folds,\n",
    "                         X, y, T, name)\n",
    "    \n",
    "    return xgb_model"
   ]
  },
  {
   "cell_type": "code",
   "execution_count": 25,
   "metadata": {
    "collapsed": false
   },
   "outputs": [
    {
     "name": "stdout",
     "output_type": "stream",
     "text": [
      "CPU times: user 2.64 s, sys: 12 ms, total: 2.65 s\n",
      "Wall time: 2.65 s\n",
      "CPU times: user 2.69 s, sys: 8 ms, total: 2.7 s\n",
      "Wall time: 2.7 s\n",
      "CPU times: user 2.68 s, sys: 4 ms, total: 2.69 s\n",
      "Wall time: 2.69 s\n",
      "CPU times: user 2.71 s, sys: 8 ms, total: 2.72 s\n",
      "Wall time: 2.71 s\n",
      "CPU times: user 2.75 s, sys: 0 ns, total: 2.75 s\n",
      "Wall time: 2.75 s\n",
      "\n",
      "\n",
      "Sanity Check:\n",
      "Mean of Y in training data: 0.0672226889075563\n",
      "Versus Mean of predicted Y: 0.06688789710228518\n",
      "Difference =  0.0\n",
      "If these differ by more than 0.01 or so, something may have gone wrong.\n",
      "\n",
      "Sanity Check:\n",
      "Mean of Y in training data: 0.0672226889075563\n",
      "Versus Mean of predicted Y: 0.06702832195645858\n",
      "Difference =  0.0\n",
      "If these differ by more than 0.01 or so, something may have gone wrong.\n"
     ]
    }
   ],
   "source": [
    "xgb_missing_model = xgb_base_model(X_train_missing, y_train_missing, test_missing, 'XGB_Missing')"
   ]
  },
  {
   "cell_type": "code",
   "execution_count": 32,
   "metadata": {
    "collapsed": false
   },
   "outputs": [
    {
     "name": "stdout",
     "output_type": "stream",
     "text": [
      "CPU times: user 3.39 s, sys: 4 ms, total: 3.4 s\n",
      "Wall time: 3.39 s\n",
      "CPU times: user 3.32 s, sys: 8 ms, total: 3.33 s\n",
      "Wall time: 3.33 s\n",
      "CPU times: user 3.3 s, sys: 4 ms, total: 3.3 s\n",
      "Wall time: 3.3 s\n",
      "CPU times: user 3.31 s, sys: 0 ns, total: 3.31 s\n",
      "Wall time: 3.31 s\n",
      "CPU times: user 3.33 s, sys: 4 ms, total: 3.34 s\n",
      "Wall time: 3.34 s\n",
      "\n",
      "\n",
      "Sanity Check:\n",
      "Mean of Y in training data: 0.0672226889075563\n",
      "Versus Mean of predicted Y: 0.06692124521213584\n",
      "Difference =  0.0\n",
      "If these differ by more than 0.01 or so, something may have gone wrong.\n",
      "\n",
      "Sanity Check:\n",
      "Mean of Y in training data: 0.0672226889075563\n",
      "Versus Mean of predicted Y: 0.06705295858588281\n",
      "Difference =  0.0\n",
      "If these differ by more than 0.01 or so, something may have gone wrong.\n"
     ]
    }
   ],
   "source": [
    "xgb_inter_model = xgb_base_model (X_train_inter, y_train_inter, test_inter, 'XGB_Inter')"
   ]
  },
  {
   "cell_type": "code",
   "execution_count": 33,
   "metadata": {
    "collapsed": false
   },
   "outputs": [
    {
     "name": "stdout",
     "output_type": "stream",
     "text": [
      "Cross validation score:\n",
      "\t0.858001353404 +/- 0.00669072841179\n",
      "Raw: [ 0.84949179  0.86295852  0.86266574  0.86467268  0.85021804]\n"
     ]
    }
   ],
   "source": [
    "xgb_cv = cross_val (xgb_inter_model, X_train_inter, y_train_inter, 5)"
   ]
  },
  {
   "cell_type": "markdown",
   "metadata": {},
   "source": [
    "## Bagged XGB"
   ]
  },
  {
   "cell_type": "code",
   "execution_count": 17,
   "metadata": {
    "collapsed": false
   },
   "outputs": [
    {
     "name": "stdout",
     "output_type": "stream",
     "text": [
      "CPU times: user 54.3 s, sys: 196 ms, total: 54.5 s\n",
      "Wall time: 54.4 s\n",
      "CPU times: user 58.4 s, sys: 104 ms, total: 58.5 s\n",
      "Wall time: 58.4 s\n",
      "CPU times: user 55.7 s, sys: 96 ms, total: 55.8 s\n",
      "Wall time: 55.8 s\n",
      "CPU times: user 54.1 s, sys: 156 ms, total: 54.3 s\n",
      "Wall time: 54.2 s\n",
      "CPU times: user 55.7 s, sys: 160 ms, total: 55.9 s\n",
      "Wall time: 55.9 s\n",
      "\n",
      "\n",
      "Sanity Check:\n",
      "Mean of Y in training data: 0.0672226889075563\n",
      "Versus Mean of predicted Y: 0.06697918578255072\n",
      "Difference =  0.0\n",
      "If these differ by more than 0.01 or so, something may have gone wrong.\n",
      "\n",
      "Sanity Check:\n",
      "Mean of Y in training data: 0.0672226889075563\n",
      "Versus Mean of predicted Y: 0.06695628958879857\n",
      "Difference =  0.0\n",
      "If these differ by more than 0.01 or so, something may have gone wrong.\n"
     ]
    },
    {
     "data": {
      "text/plain": [
       "BaggingClassifier(base_estimator=XGBClassifier(base_score=0.5, colsample_bylevel=0.25, colsample_bytree=0.9,\n",
       "       gamma=5, learning_rate=0.1, max_delta_step=0, max_depth=6,\n",
       "       min_child_weight=1, missing=None, n_estimators=100, nthread=-1,\n",
       "       objective='binary:logistic', reg_alpha=0, reg_lambda=10,\n",
       "       scale_pos_weight=1, seed=0, silent=1, subsample=1),\n",
       "         bootstrap=True, bootstrap_features=True, max_features=0.75,\n",
       "         max_samples=0.8, n_estimators=30, n_jobs=1, oob_score=False,\n",
       "         random_state=None, verbose=0, warm_start=False)"
      ]
     },
     "execution_count": 17,
     "metadata": {},
     "output_type": "execute_result"
    }
   ],
   "source": [
    "xgb_model = XGBClassifier(max_depth=6, n_estimators=100, subsample=1,\n",
    "                          learning_rate=0.1, gamma=5, reg_lambda=10, \n",
    "                          objective='binary:logistic', silent=1, \n",
    "                          colsample_bytree=0.9, colsample_bylevel=0.25)\n",
    "\n",
    "#num_bags = 10\n",
    "#sample = 0.75\n",
    "#xgb_bag_train = np.zeros((X_train_missing.shape[0], num_bags))\n",
    "#xgb_bag_test  = np.zeros((test_missing.shape[0], num_bags))\n",
    "\n",
    "xgb_bag_model = BaggingClassifier(base_estimator=xgb_model, n_estimators=30,\n",
    "                            max_samples=0.8, max_features=0.75, bootstrap_features=True)\n",
    "\n",
    "train_and_save_preds(xgb_bag_model, __folds,\n",
    "                     X_train_basic, y_train_basic,\n",
    "                     test_basic, 'XGB_Bagged')"
   ]
  },
  {
   "cell_type": "markdown",
   "metadata": {},
   "source": [
    "# Adaboost"
   ]
  },
  {
   "cell_type": "code",
   "execution_count": 105,
   "metadata": {
    "collapsed": false
   },
   "outputs": [
    {
     "name": "stdout",
     "output_type": "stream",
     "text": [
      "CPU times: user 8.26 s, sys: 0 ns, total: 8.26 s\n",
      "Wall time: 8.25 s\n",
      "CPU times: user 8.11 s, sys: 0 ns, total: 8.11 s\n",
      "Wall time: 8.11 s\n",
      "CPU times: user 8.05 s, sys: 0 ns, total: 8.05 s\n",
      "Wall time: 8.04 s\n",
      "CPU times: user 8.03 s, sys: 4 ms, total: 8.04 s\n",
      "Wall time: 8.03 s\n",
      "CPU times: user 8.25 s, sys: 0 ns, total: 8.25 s\n",
      "Wall time: 8.25 s\n",
      "\n",
      "\n",
      "Sanity Check:\n",
      "Mean of Y in training data: 0.0672226889075563\n",
      "Versus Mean of predicted Y: 0.467319393506567\n",
      "Difference =  0.4\n",
      "If these differ by more than 0.01 or so, something may have gone wrong.\n",
      "\n",
      "Sanity Check:\n",
      "Mean of Y in training data: 0.0672226889075563\n",
      "Versus Mean of predicted Y: 0.4672393239480132\n",
      "Difference =  0.4\n",
      "If these differ by more than 0.01 or so, something may have gone wrong.\n"
     ]
    }
   ],
   "source": [
    "def ada_base_model():\n",
    "    ada_model = AdaBoostClassifier(algorithm= 'SAMME.R', base_estimator=DecisionTreeClassifier(max_depth=3),\n",
    "                                   learning_rate=1, n_estimators=50)\n",
    "    train_and_save_preds(ada_model, __folds,\n",
    "                         X_train_basic, y_train_basic,\n",
    "                         test_basic, 'Ada')\n",
    "    \n",
    "    return ada_model\n",
    "\n",
    "ada_model = ada_base_model()"
   ]
  },
  {
   "cell_type": "code",
   "execution_count": 106,
   "metadata": {
    "collapsed": false
   },
   "outputs": [
    {
     "name": "stdout",
     "output_type": "stream",
     "text": [
      "Cross validation results:\n",
      "\t0.859376655581 +/- 0.00719312269772\n",
      "Raw: [ 0.84945484  0.86468432  0.86495731  0.86598144  0.85180537]\n"
     ]
    }
   ],
   "source": [
    "ada_cv = cross_val (ada_model, X_train_basic, y_train_basic, 5)"
   ]
  },
  {
   "cell_type": "markdown",
   "metadata": {},
   "source": [
    "# Extra Trees"
   ]
  },
  {
   "cell_type": "code",
   "execution_count": 38,
   "metadata": {
    "collapsed": false,
    "scrolled": true
   },
   "outputs": [
    {
     "name": "stdout",
     "output_type": "stream",
     "text": [
      "CPU times: user 22 s, sys: 36 ms, total: 22.1 s\n",
      "Wall time: 3.14 s\n",
      "CPU times: user 22 s, sys: 40 ms, total: 22 s\n",
      "Wall time: 3.12 s\n",
      "CPU times: user 22 s, sys: 60 ms, total: 22 s\n",
      "Wall time: 3.13 s\n",
      "CPU times: user 22 s, sys: 48 ms, total: 22.1 s\n",
      "Wall time: 3.12 s\n",
      "CPU times: user 21.7 s, sys: 36 ms, total: 21.8 s\n",
      "Wall time: 3.12 s\n",
      "\n",
      "\n",
      "Sanity Check:\n",
      "Mean of Y in training data: 0.0672226889075563\n",
      "Versus Mean of predicted Y: 0.06683513967484495\n",
      "Difference =  0.0\n",
      "If these differ by more than 0.01 or so, something may have gone wrong.\n",
      "\n",
      "Sanity Check:\n",
      "Mean of Y in training data: 0.0672226889075563\n",
      "Versus Mean of predicted Y: 0.06719678950539128\n",
      "Difference =  0.0\n",
      "If these differ by more than 0.01 or so, something may have gone wrong.\n"
     ]
    }
   ],
   "source": [
    "def ext_base_model():\n",
    "    ext_model = ExtraTreesClassifier(criterion='entropy', max_depth=20, n_estimators=250, n_jobs=-1)\n",
    "    train_and_save_preds(ext_model, __folds,\n",
    "                         X_train_basic, y_train_basic, \n",
    "                         test_basic, 'ExtraTrees')\n",
    "    \n",
    "    return ext_model\n",
    "\n",
    "ext_model = ext_base_model()"
   ]
  },
  {
   "cell_type": "code",
   "execution_count": 108,
   "metadata": {
    "collapsed": false
   },
   "outputs": [
    {
     "name": "stdout",
     "output_type": "stream",
     "text": [
      "Cross validation results:\n",
      "\t0.859734147225 +/- 0.00743131046942\n",
      "Raw: [ 0.84910981  0.86486251  0.86561688  0.86669143  0.85239011]\n"
     ]
    }
   ],
   "source": [
    "ext_cv = cross_val (ext_model, X_train_basic, y_train_basic, 5)"
   ]
  },
  {
   "cell_type": "markdown",
   "metadata": {},
   "source": [
    "# K-Nearest Neighbors"
   ]
  },
  {
   "cell_type": "code",
   "execution_count": 113,
   "metadata": {
    "collapsed": false,
    "scrolled": true
   },
   "outputs": [
    {
     "name": "stdout",
     "output_type": "stream",
     "text": [
      "CPU times: user 276 ms, sys: 0 ns, total: 276 ms\n",
      "Wall time: 278 ms\n",
      "CPU times: user 292 ms, sys: 0 ns, total: 292 ms\n",
      "Wall time: 290 ms\n",
      "CPU times: user 536 ms, sys: 0 ns, total: 536 ms\n",
      "Wall time: 538 ms\n",
      "CPU times: user 296 ms, sys: 0 ns, total: 296 ms\n",
      "Wall time: 293 ms\n",
      "CPU times: user 204 ms, sys: 4 ms, total: 208 ms\n",
      "Wall time: 208 ms\n",
      "\n",
      "\n",
      "Sanity Check:\n",
      "Mean of Y in training data: 0.0672226889075563\n",
      "Versus Mean of predicted Y: 0.059741999999999996\n",
      "Difference =  0.007\n",
      "If these differ by more than 0.01 or so, something may have gone wrong.\n",
      "\n",
      "Sanity Check:\n",
      "Mean of Y in training data: 0.0672226889075563\n",
      "Versus Mean of predicted Y: 0.06085243409736389\n",
      "Difference =  0.006\n",
      "If these differ by more than 0.01 or so, something may have gone wrong.\n",
      "\n",
      "CPU times: user 336 ms, sys: 0 ns, total: 336 ms\n",
      "Wall time: 332 ms\n",
      "CPU times: user 284 ms, sys: 0 ns, total: 284 ms\n",
      "Wall time: 287 ms\n",
      "CPU times: user 548 ms, sys: 0 ns, total: 548 ms\n",
      "Wall time: 545 ms\n",
      "CPU times: user 292 ms, sys: 0 ns, total: 292 ms\n",
      "Wall time: 290 ms\n",
      "CPU times: user 208 ms, sys: 0 ns, total: 208 ms\n",
      "Wall time: 207 ms\n",
      "\n",
      "\n",
      "Sanity Check:\n",
      "Mean of Y in training data: 0.0672226889075563\n",
      "Versus Mean of predicted Y: 0.061051\n",
      "Difference =  0.006\n",
      "If these differ by more than 0.01 or so, something may have gone wrong.\n",
      "\n",
      "Sanity Check:\n",
      "Mean of Y in training data: 0.0672226889075563\n",
      "Versus Mean of predicted Y: 0.06158246329853194\n",
      "Difference =  0.006\n",
      "If these differ by more than 0.01 or so, something may have gone wrong.\n",
      "\n",
      "CPU times: user 328 ms, sys: 0 ns, total: 328 ms\n",
      "Wall time: 328 ms\n",
      "CPU times: user 316 ms, sys: 0 ns, total: 316 ms\n",
      "Wall time: 313 ms\n",
      "CPU times: user 540 ms, sys: 0 ns, total: 540 ms\n",
      "Wall time: 541 ms\n",
      "CPU times: user 288 ms, sys: 0 ns, total: 288 ms\n",
      "Wall time: 287 ms\n",
      "CPU times: user 196 ms, sys: 0 ns, total: 196 ms\n",
      "Wall time: 195 ms\n",
      "\n",
      "\n",
      "Sanity Check:\n",
      "Mean of Y in training data: 0.0672226889075563\n",
      "Versus Mean of predicted Y: 0.06277350000000001\n",
      "Difference =  0.004\n",
      "If these differ by more than 0.01 or so, something may have gone wrong.\n",
      "\n",
      "Sanity Check:\n",
      "Mean of Y in training data: 0.0672226889075563\n",
      "Versus Mean of predicted Y: 0.06292751710068403\n",
      "Difference =  0.004\n",
      "If these differ by more than 0.01 or so, something may have gone wrong.\n",
      "\n",
      "CPU times: user 324 ms, sys: 4 ms, total: 328 ms\n",
      "Wall time: 329 ms\n",
      "CPU times: user 296 ms, sys: 0 ns, total: 296 ms\n",
      "Wall time: 295 ms\n",
      "CPU times: user 344 ms, sys: 0 ns, total: 344 ms\n",
      "Wall time: 344 ms\n",
      "CPU times: user 328 ms, sys: 0 ns, total: 328 ms\n",
      "Wall time: 326 ms\n",
      "CPU times: user 220 ms, sys: 4 ms, total: 224 ms\n",
      "Wall time: 223 ms\n",
      "\n",
      "\n",
      "Sanity Check:\n",
      "Mean of Y in training data: 0.0672226889075563\n",
      "Versus Mean of predicted Y: 0.06434525\n",
      "Difference =  0.003\n",
      "If these differ by more than 0.01 or so, something may have gone wrong.\n",
      "\n",
      "Sanity Check:\n",
      "Mean of Y in training data: 0.0672226889075563\n",
      "Versus Mean of predicted Y: 0.06450758030321213\n",
      "Difference =  0.003\n",
      "If these differ by more than 0.01 or so, something may have gone wrong.\n",
      "\n",
      "CPU times: user 332 ms, sys: 0 ns, total: 332 ms\n",
      "Wall time: 331 ms\n",
      "CPU times: user 296 ms, sys: 0 ns, total: 296 ms\n",
      "Wall time: 297 ms\n",
      "CPU times: user 324 ms, sys: 0 ns, total: 324 ms\n",
      "Wall time: 324 ms\n",
      "CPU times: user 324 ms, sys: 0 ns, total: 324 ms\n",
      "Wall time: 325 ms\n",
      "CPU times: user 196 ms, sys: 0 ns, total: 196 ms\n",
      "Wall time: 197 ms\n",
      "\n",
      "\n",
      "Sanity Check:\n",
      "Mean of Y in training data: 0.0672226889075563\n",
      "Versus Mean of predicted Y: 0.06549050000000001\n",
      "Difference =  0.002\n",
      "If these differ by more than 0.01 or so, something may have gone wrong.\n",
      "\n",
      "Sanity Check:\n",
      "Mean of Y in training data: 0.0672226889075563\n",
      "Versus Mean of predicted Y: 0.0655407466298652\n",
      "Difference =  0.002\n",
      "If these differ by more than 0.01 or so, something may have gone wrong.\n",
      "\n",
      "CPU times: user 324 ms, sys: 0 ns, total: 324 ms\n",
      "Wall time: 325 ms\n",
      "CPU times: user 288 ms, sys: 0 ns, total: 288 ms\n",
      "Wall time: 287 ms\n",
      "CPU times: user 292 ms, sys: 4 ms, total: 296 ms\n",
      "Wall time: 295 ms\n",
      "CPU times: user 272 ms, sys: 0 ns, total: 272 ms\n",
      "Wall time: 269 ms\n",
      "CPU times: user 196 ms, sys: 0 ns, total: 196 ms\n",
      "Wall time: 198 ms\n",
      "\n",
      "\n",
      "Sanity Check:\n",
      "Mean of Y in training data: 0.0672226889075563\n",
      "Versus Mean of predicted Y: 0.066769\n",
      "Difference =  0.0\n",
      "If these differ by more than 0.01 or so, something may have gone wrong.\n",
      "\n",
      "Sanity Check:\n",
      "Mean of Y in training data: 0.0672226889075563\n",
      "Versus Mean of predicted Y: 0.06623139925597024\n",
      "Difference =  0.001\n",
      "If these differ by more than 0.01 or so, something may have gone wrong.\n",
      "\n",
      "CPU times: user 548 ms, sys: 0 ns, total: 548 ms\n",
      "Wall time: 548 ms\n",
      "CPU times: user 564 ms, sys: 0 ns, total: 564 ms\n",
      "Wall time: 563 ms\n",
      "CPU times: user 540 ms, sys: 4 ms, total: 544 ms\n",
      "Wall time: 546 ms\n",
      "CPU times: user 848 ms, sys: 0 ns, total: 848 ms\n",
      "Wall time: 843 ms\n",
      "CPU times: user 340 ms, sys: 0 ns, total: 340 ms\n",
      "Wall time: 338 ms\n",
      "\n",
      "\n",
      "Sanity Check:\n",
      "Mean of Y in training data: 0.0672226889075563\n",
      "Versus Mean of predicted Y: 0.067156625\n",
      "Difference =  0.0\n",
      "If these differ by more than 0.01 or so, something may have gone wrong.\n",
      "\n",
      "Sanity Check:\n",
      "Mean of Y in training data: 0.0672226889075563\n",
      "Versus Mean of predicted Y: 0.06682439172566902\n",
      "Difference =  0.0\n",
      "If these differ by more than 0.01 or so, something may have gone wrong.\n",
      "\n",
      "CPU times: user 304 ms, sys: 0 ns, total: 304 ms\n",
      "Wall time: 305 ms\n",
      "CPU times: user 292 ms, sys: 4 ms, total: 296 ms\n",
      "Wall time: 295 ms\n",
      "CPU times: user 276 ms, sys: 4 ms, total: 280 ms\n",
      "Wall time: 277 ms\n",
      "CPU times: user 288 ms, sys: 0 ns, total: 288 ms\n",
      "Wall time: 291 ms\n",
      "CPU times: user 208 ms, sys: 0 ns, total: 208 ms\n",
      "Wall time: 206 ms\n",
      "\n",
      "\n",
      "Sanity Check:\n",
      "Mean of Y in training data: 0.0672226889075563\n",
      "Versus Mean of predicted Y: 0.06710940625\n",
      "Difference =  0.0\n",
      "If these differ by more than 0.01 or so, something may have gone wrong.\n",
      "\n",
      "Sanity Check:\n",
      "Mean of Y in training data: 0.0672226889075563\n",
      "Versus Mean of predicted Y: 0.06688439412576504\n",
      "Difference =  0.0\n",
      "If these differ by more than 0.01 or so, something may have gone wrong.\n",
      "\n",
      "CPU times: user 308 ms, sys: 0 ns, total: 308 ms\n",
      "Wall time: 305 ms\n",
      "CPU times: user 288 ms, sys: 0 ns, total: 288 ms\n",
      "Wall time: 289 ms\n",
      "CPU times: user 292 ms, sys: 0 ns, total: 292 ms\n",
      "Wall time: 292 ms\n",
      "CPU times: user 448 ms, sys: 0 ns, total: 448 ms\n",
      "Wall time: 449 ms\n",
      "CPU times: user 224 ms, sys: 0 ns, total: 224 ms\n",
      "Wall time: 224 ms\n",
      "\n",
      "\n",
      "Sanity Check:\n",
      "Mean of Y in training data: 0.0672226889075563\n",
      "Versus Mean of predicted Y: 0.0663541796875\n",
      "Difference =  0.001\n",
      "If these differ by more than 0.01 or so, something may have gone wrong.\n",
      "\n",
      "Sanity Check:\n",
      "Mean of Y in training data: 0.0672226889075563\n",
      "Versus Mean of predicted Y: 0.06622190668876755\n",
      "Difference =  0.001\n",
      "If these differ by more than 0.01 or so, something may have gone wrong.\n",
      "\n"
     ]
    }
   ],
   "source": [
    "def knn_base_models():\n",
    "    knn_models = []\n",
    "    for i in range(1,10):\n",
    "        n = 2**i\n",
    "        knn_models.append(KNeighborsClassifier (n_neighbors=n, n_jobs=-1))\n",
    "        train_and_save_preds(knn_models[i-1], __folds,\n",
    "                             X_train_basic, y_train_basic, \n",
    "                             test_basic, 'KNN_'+str(n))\n",
    "        print('')\n",
    "        \n",
    "    return knn_models\n",
    "\n",
    "knn_models = knn_base_models()"
   ]
  },
  {
   "cell_type": "code",
   "execution_count": 114,
   "metadata": {
    "collapsed": false,
    "scrolled": true
   },
   "outputs": [
    {
     "name": "stdout",
     "output_type": "stream",
     "text": [
      "Cross validation results:\n",
      "\t0.859734147225 +/- 0.00743131046942\n",
      "Raw: [ 0.84910981  0.86486251  0.86561688  0.86669143  0.85239011]\n",
      "Cross validation results:\n",
      "\t0.859734147225 +/- 0.00743131046942\n",
      "Raw: [ 0.84910981  0.86486251  0.86561688  0.86669143  0.85239011]\n",
      "Cross validation results:\n",
      "\t0.859734147225 +/- 0.00743131046942\n",
      "Raw: [ 0.84910981  0.86486251  0.86561688  0.86669143  0.85239011]\n",
      "Cross validation results:\n",
      "\t0.859734147225 +/- 0.00743131046942\n",
      "Raw: [ 0.84910981  0.86486251  0.86561688  0.86669143  0.85239011]\n",
      "Cross validation results:\n",
      "\t0.859734147225 +/- 0.00743131046942\n",
      "Raw: [ 0.84910981  0.86486251  0.86561688  0.86669143  0.85239011]\n",
      "Cross validation results:\n",
      "\t0.859734147225 +/- 0.00743131046942\n",
      "Raw: [ 0.84910981  0.86486251  0.86561688  0.86669143  0.85239011]\n",
      "Cross validation results:\n",
      "\t0.859734147225 +/- 0.00743131046942\n",
      "Raw: [ 0.84910981  0.86486251  0.86561688  0.86669143  0.85239011]\n",
      "Cross validation results:\n",
      "\t0.859734147225 +/- 0.00743131046942\n",
      "Raw: [ 0.84910981  0.86486251  0.86561688  0.86669143  0.85239011]\n",
      "Cross validation results:\n",
      "\t0.859734147225 +/- 0.00743131046942\n",
      "Raw: [ 0.84910981  0.86486251  0.86561688  0.86669143  0.85239011]\n"
     ]
    }
   ],
   "source": [
    "knn_cvs = []\n",
    "for knn_model in knn_models:\n",
    "    knn_cvs.append(cross_val (knn_model, X_train_basic, y_train_basic, 5))"
   ]
  },
  {
   "cell_type": "markdown",
   "metadata": {},
   "source": [
    "# Logistic Regression"
   ]
  },
  {
   "cell_type": "code",
   "execution_count": 54,
   "metadata": {
    "collapsed": false
   },
   "outputs": [
    {
     "name": "stderr",
     "output_type": "stream",
     "text": [
      "/home/kian/anaconda2/envs/py35/lib/python3.5/site-packages/sklearn/linear_model/sag.py:286: ConvergenceWarning: The max_iter was reached which means the coef_ did not converge\n",
      "  \"the coef_ did not converge\", ConvergenceWarning)\n",
      "/home/kian/anaconda2/envs/py35/lib/python3.5/site-packages/sklearn/linear_model/sag.py:286: ConvergenceWarning: The max_iter was reached which means the coef_ did not converge\n",
      "  \"the coef_ did not converge\", ConvergenceWarning)\n",
      "/home/kian/anaconda2/envs/py35/lib/python3.5/site-packages/sklearn/linear_model/sag.py:286: ConvergenceWarning: The max_iter was reached which means the coef_ did not converge\n",
      "  \"the coef_ did not converge\", ConvergenceWarning)\n",
      "/home/kian/anaconda2/envs/py35/lib/python3.5/site-packages/sklearn/linear_model/sag.py:286: ConvergenceWarning: The max_iter was reached which means the coef_ did not converge\n",
      "  \"the coef_ did not converge\", ConvergenceWarning)\n",
      "/home/kian/anaconda2/envs/py35/lib/python3.5/site-packages/sklearn/linear_model/sag.py:286: ConvergenceWarning: The max_iter was reached which means the coef_ did not converge\n",
      "  \"the coef_ did not converge\", ConvergenceWarning)\n",
      "/home/kian/anaconda2/envs/py35/lib/python3.5/site-packages/sklearn/linear_model/sag.py:286: ConvergenceWarning: The max_iter was reached which means the coef_ did not converge\n",
      "  \"the coef_ did not converge\", ConvergenceWarning)\n",
      "/home/kian/anaconda2/envs/py35/lib/python3.5/site-packages/sklearn/linear_model/sag.py:286: ConvergenceWarning: The max_iter was reached which means the coef_ did not converge\n",
      "  \"the coef_ did not converge\", ConvergenceWarning)\n",
      "/home/kian/anaconda2/envs/py35/lib/python3.5/site-packages/sklearn/linear_model/sag.py:286: ConvergenceWarning: The max_iter was reached which means the coef_ did not converge\n",
      "  \"the coef_ did not converge\", ConvergenceWarning)\n",
      "/home/kian/anaconda2/envs/py35/lib/python3.5/site-packages/sklearn/linear_model/sag.py:286: ConvergenceWarning: The max_iter was reached which means the coef_ did not converge\n",
      "  \"the coef_ did not converge\", ConvergenceWarning)\n",
      "/home/kian/anaconda2/envs/py35/lib/python3.5/site-packages/sklearn/linear_model/sag.py:286: ConvergenceWarning: The max_iter was reached which means the coef_ did not converge\n",
      "  \"the coef_ did not converge\", ConvergenceWarning)\n",
      "/home/kian/anaconda2/envs/py35/lib/python3.5/site-packages/sklearn/linear_model/sag.py:286: ConvergenceWarning: The max_iter was reached which means the coef_ did not converge\n",
      "  \"the coef_ did not converge\", ConvergenceWarning)\n",
      "/home/kian/anaconda2/envs/py35/lib/python3.5/site-packages/sklearn/linear_model/sag.py:286: ConvergenceWarning: The max_iter was reached which means the coef_ did not converge\n",
      "  \"the coef_ did not converge\", ConvergenceWarning)\n",
      "/home/kian/anaconda2/envs/py35/lib/python3.5/site-packages/sklearn/linear_model/sag.py:286: ConvergenceWarning: The max_iter was reached which means the coef_ did not converge\n",
      "  \"the coef_ did not converge\", ConvergenceWarning)\n",
      "/home/kian/anaconda2/envs/py35/lib/python3.5/site-packages/sklearn/linear_model/sag.py:286: ConvergenceWarning: The max_iter was reached which means the coef_ did not converge\n",
      "  \"the coef_ did not converge\", ConvergenceWarning)\n",
      "/home/kian/anaconda2/envs/py35/lib/python3.5/site-packages/sklearn/linear_model/sag.py:286: ConvergenceWarning: The max_iter was reached which means the coef_ did not converge\n",
      "  \"the coef_ did not converge\", ConvergenceWarning)\n",
      "/home/kian/anaconda2/envs/py35/lib/python3.5/site-packages/sklearn/linear_model/sag.py:286: ConvergenceWarning: The max_iter was reached which means the coef_ did not converge\n",
      "  \"the coef_ did not converge\", ConvergenceWarning)\n",
      "/home/kian/anaconda2/envs/py35/lib/python3.5/site-packages/sklearn/linear_model/sag.py:286: ConvergenceWarning: The max_iter was reached which means the coef_ did not converge\n",
      "  \"the coef_ did not converge\", ConvergenceWarning)\n",
      "/home/kian/anaconda2/envs/py35/lib/python3.5/site-packages/sklearn/linear_model/sag.py:286: ConvergenceWarning: The max_iter was reached which means the coef_ did not converge\n",
      "  \"the coef_ did not converge\", ConvergenceWarning)\n",
      "/home/kian/anaconda2/envs/py35/lib/python3.5/site-packages/sklearn/linear_model/sag.py:286: ConvergenceWarning: The max_iter was reached which means the coef_ did not converge\n",
      "  \"the coef_ did not converge\", ConvergenceWarning)\n",
      "/home/kian/anaconda2/envs/py35/lib/python3.5/site-packages/sklearn/linear_model/sag.py:286: ConvergenceWarning: The max_iter was reached which means the coef_ did not converge\n",
      "  \"the coef_ did not converge\", ConvergenceWarning)\n",
      "/home/kian/anaconda2/envs/py35/lib/python3.5/site-packages/sklearn/linear_model/sag.py:286: ConvergenceWarning: The max_iter was reached which means the coef_ did not converge\n",
      "  \"the coef_ did not converge\", ConvergenceWarning)\n",
      "/home/kian/anaconda2/envs/py35/lib/python3.5/site-packages/sklearn/linear_model/sag.py:286: ConvergenceWarning: The max_iter was reached which means the coef_ did not converge\n",
      "  \"the coef_ did not converge\", ConvergenceWarning)\n",
      "/home/kian/anaconda2/envs/py35/lib/python3.5/site-packages/sklearn/linear_model/sag.py:286: ConvergenceWarning: The max_iter was reached which means the coef_ did not converge\n",
      "  \"the coef_ did not converge\", ConvergenceWarning)\n",
      "/home/kian/anaconda2/envs/py35/lib/python3.5/site-packages/sklearn/linear_model/sag.py:286: ConvergenceWarning: The max_iter was reached which means the coef_ did not converge\n",
      "  \"the coef_ did not converge\", ConvergenceWarning)\n",
      "/home/kian/anaconda2/envs/py35/lib/python3.5/site-packages/sklearn/linear_model/sag.py:286: ConvergenceWarning: The max_iter was reached which means the coef_ did not converge\n",
      "  \"the coef_ did not converge\", ConvergenceWarning)\n",
      "/home/kian/anaconda2/envs/py35/lib/python3.5/site-packages/sklearn/linear_model/sag.py:286: ConvergenceWarning: The max_iter was reached which means the coef_ did not converge\n",
      "  \"the coef_ did not converge\", ConvergenceWarning)\n",
      "/home/kian/anaconda2/envs/py35/lib/python3.5/site-packages/sklearn/linear_model/sag.py:286: ConvergenceWarning: The max_iter was reached which means the coef_ did not converge\n",
      "  \"the coef_ did not converge\", ConvergenceWarning)\n",
      "/home/kian/anaconda2/envs/py35/lib/python3.5/site-packages/sklearn/linear_model/sag.py:286: ConvergenceWarning: The max_iter was reached which means the coef_ did not converge\n",
      "  \"the coef_ did not converge\", ConvergenceWarning)\n",
      "/home/kian/anaconda2/envs/py35/lib/python3.5/site-packages/sklearn/linear_model/sag.py:286: ConvergenceWarning: The max_iter was reached which means the coef_ did not converge\n",
      "  \"the coef_ did not converge\", ConvergenceWarning)\n",
      "/home/kian/anaconda2/envs/py35/lib/python3.5/site-packages/sklearn/linear_model/sag.py:286: ConvergenceWarning: The max_iter was reached which means the coef_ did not converge\n",
      "  \"the coef_ did not converge\", ConvergenceWarning)\n",
      "/home/kian/anaconda2/envs/py35/lib/python3.5/site-packages/sklearn/linear_model/sag.py:286: ConvergenceWarning: The max_iter was reached which means the coef_ did not converge\n",
      "  \"the coef_ did not converge\", ConvergenceWarning)\n",
      "/home/kian/anaconda2/envs/py35/lib/python3.5/site-packages/sklearn/linear_model/sag.py:286: ConvergenceWarning: The max_iter was reached which means the coef_ did not converge\n",
      "  \"the coef_ did not converge\", ConvergenceWarning)\n",
      "/home/kian/anaconda2/envs/py35/lib/python3.5/site-packages/sklearn/linear_model/sag.py:286: ConvergenceWarning: The max_iter was reached which means the coef_ did not converge\n",
      "  \"the coef_ did not converge\", ConvergenceWarning)\n"
     ]
    },
    {
     "name": "stdout",
     "output_type": "stream",
     "text": [
      "CPU times: user 9.66 s, sys: 688 ms, total: 10.4 s\n",
      "Wall time: 1min 25s\n",
      "0.836403471587\n",
      "{'solver': 'liblinear', 'C': 0.01, 'tol': 0.01, 'max_iter': 100}\n"
     ]
    }
   ],
   "source": [
    "def gridsearch_logreg ():\n",
    "    model = LogisticRegression()\n",
    "    model_grid = {\n",
    "        'C': [0.001, 0.01, 0.1, 0.5, 1.0],\n",
    "        'max_iter': [100, 200],\n",
    "        'tol': [1e-4, 1e-3, 1e-2],\n",
    "        'solver': ['liblinear', 'sag']\n",
    "    }\n",
    "\n",
    "    grid = GridSearchCV(model, model_grid, cv=5, scoring='roc_auc', n_jobs=8)\n",
    "    %time grid.fit(X_train_log, y_train_log) \n",
    "\n",
    "    return grid\n",
    "\n",
    "grid = gridsearch_logreg()\n",
    "print (grid.best_score_)\n",
    "print (grid.best_params_)"
   ]
  },
  {
   "cell_type": "code",
   "execution_count": 55,
   "metadata": {
    "collapsed": false
   },
   "outputs": [
    {
     "name": "stdout",
     "output_type": "stream",
     "text": [
      "CPU times: user 188 ms, sys: 4 ms, total: 192 ms\n",
      "Wall time: 194 ms\n",
      "CPU times: user 584 ms, sys: 16 ms, total: 600 ms\n",
      "Wall time: 150 ms\n",
      "CPU times: user 648 ms, sys: 12 ms, total: 660 ms\n",
      "Wall time: 164 ms\n",
      "CPU times: user 596 ms, sys: 16 ms, total: 612 ms\n",
      "Wall time: 154 ms\n",
      "CPU times: user 592 ms, sys: 16 ms, total: 608 ms\n",
      "Wall time: 151 ms\n",
      "\n",
      "\n",
      "Sanity Check:\n",
      "Mean of Y in training data: 0.0672226889075563\n",
      "Versus Mean of predicted Y: 0.06710676938600431\n",
      "Difference =  0.0\n",
      "If these differ by more than 0.01 or so, something may have gone wrong.\n",
      "\n",
      "Sanity Check:\n",
      "Mean of Y in training data: 0.0672226889075563\n",
      "Versus Mean of predicted Y: 0.06722070173036462\n",
      "Difference =  0.0\n",
      "If these differ by more than 0.01 or so, something may have gone wrong.\n"
     ]
    }
   ],
   "source": [
    "def logreg_base_model():\n",
    "    logreg_model = LogisticRegression(C=0.01, tol=0.01, max_iter=100)\n",
    "    train_and_save_preds(logreg_model, __folds,\n",
    "                         X_train_log, y_train_log, \n",
    "                         test_log, 'LogReg')\n",
    "    \n",
    "    return logreg_model\n",
    "\n",
    "logreg_model = logreg_base_model()"
   ]
  },
  {
   "cell_type": "code",
   "execution_count": 56,
   "metadata": {
    "collapsed": false
   },
   "outputs": [
    {
     "name": "stdout",
     "output_type": "stream",
     "text": [
      "Cross validation score:\n",
      "\t0.859672005955 +/- 0.00709809857421\n",
      "Raw: [ 0.84976323  0.86470426  0.86521929  0.86631554  0.85235772]\n"
     ]
    }
   ],
   "source": [
    "logreg_cv = cross_val (logreg_model, X_train_log, y_train_log, 5)"
   ]
  }
 ],
 "metadata": {
  "anaconda-cloud": {},
  "kernelspec": {
   "display_name": "Python [conda env:py35]",
   "language": "python",
   "name": "conda-env-py35-py"
  },
  "language_info": {
   "codemirror_mode": {
    "name": "ipython",
    "version": 3
   },
   "file_extension": ".py",
   "mimetype": "text/x-python",
   "name": "python",
   "nbconvert_exporter": "python",
   "pygments_lexer": "ipython3",
   "version": "3.5.2"
  }
 },
 "nbformat": 4,
 "nbformat_minor": 1
}
