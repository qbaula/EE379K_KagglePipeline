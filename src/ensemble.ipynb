{
 "cells": [
  {
   "cell_type": "code",
   "execution_count": 2,
   "metadata": {
    "collapsed": true
   },
   "outputs": [],
   "source": [
    "import math\n",
    "import pandas as pd\n",
    "import numpy as np\n",
    "import scipy as sp\n",
    "\n",
    "import matplotlib.pyplot as plt\n",
    "%matplotlib inline\n",
    "\n",
    "from sklearn.ensemble import RandomForestClassifier, AdaBoostClassifier, ExtraTreesClassifier\n",
    "from xgboost.sklearn import XGBClassifier\n",
    "from sklearn.neighbors import KNeighborsClassifier\n",
    "from sklearn.tree import DecisionTreeClassifier\n",
    "\n",
    "from sklearn.model_selection import GridSearchCV, KFold, train_test_split, cross_val_score, cross_val_predict\n",
    "from sklearn import metrics"
   ]
  },
  {
   "cell_type": "code",
   "execution_count": 17,
   "metadata": {
    "collapsed": true
   },
   "outputs": [],
   "source": [
    "y_train = pd.read_csv('../ensemble/train/y.csv', index_col=0)"
   ]
  },
  {
   "cell_type": "markdown",
   "metadata": {},
   "source": [
    "# Ensembling"
   ]
  },
  {
   "cell_type": "code",
   "execution_count": 16,
   "metadata": {
    "collapsed": false
   },
   "outputs": [],
   "source": [
    "class Ensemble(object):\n",
    "    def __init__(self, stacker_models, stacker_weights,\n",
    "                 base_models, num_train_points, num_test_points):\n",
    "            self.stackers = stacker_models\n",
    "            self.weights = stacker_weights\n",
    "            self.n_train = num_train_points\n",
    "            self.n_test = num_test_points\n",
    "            self.models = base_models\n",
    "            \n",
    "    def fit_predict(self, y_train):\n",
    "        if y_train.shape[0] != self.n_train:\n",
    "            print (y_train.shape[0])\n",
    "            raise ValueError('Number of points in y_train does not equal number of data points in training set')\n",
    "        \n",
    "        # Load all train and test data from the base models\n",
    "        self.S_train = self.load_metafeatures('train', self.models, self.n_train)\n",
    "        self.S_test  = self.load_metafeatures('test', self.models, self.n_test)\n",
    "        \n",
    "        # Train each stacker on the metafeatures\n",
    "        self.S_preds = np.zeros((self.n_test, len(self.stackers)))\n",
    "        for i, stacker in enumerate(self.stackers):\n",
    "            stacker.fit(self.S_train, np.ravel(y_train))\n",
    "            self.S_preds[:, i] = stacker.predict_proba(self.S_test)[:,1]\n",
    "        \n",
    "        # Combine stackers according to their weights\n",
    "        #for i, weight in enumerate(self.weights):\n",
    "        #    self.S_preds[:, i] *= weight\n",
    "        #self.y_pred = np.sum(self.S_preds, axis = 1)\n",
    "        self.y_pred = sp.stats.hmean(self.S_preds, axis=1)\n",
    "        \n",
    "        return self.y_pred\n",
    "    \n",
    "    def load_metafeatures(self, mode, models, num_points):\n",
    "        S_data = np.zeros((num_points, len(models)))\n",
    "        \n",
    "        for i, model in enumerate(models):\n",
    "            S_data_i = pd.read_csv('../ensemble/' + mode + '/' + model + '_' + mode + '.csv', \n",
    "                                   index_col=0)\n",
    "            if (S_data_i.shape[0] == num_points):\n",
    "                S_data[:, i] = np.ravel((S_data_i['Y']))\n",
    "            else:\n",
    "                raise ValueError('Number of points in' + model + '_' + mode\n",
    "                                 + 'does not equal number of data points in training set')\n",
    "            \n",
    "        return S_data\n",
    "\n",
    "    def make_submission(self, filename):\n",
    "        test_data =  pd.read_csv('../ensemble/test/' + self.models[0] + '_test.csv', index_col=0)\n",
    "        submission = pd.DataFrame(columns=['Y'], index=test_data.index, data=self.y_pred)\n",
    "        submission.to_csv('../ensemble/results/' + filename + \".csv\")\n",
    "        \n",
    "        #sanity_check (y_train, submission)\n",
    "        \n",
    "        models_file = open('../ensemble/results/' + filename + '.txt', 'w')\n",
    "        models_file.write('Models used:\\n')\n",
    "        for model in self.models:\n",
    "            models_file.write('%s\\n' % model)\n",
    "\n",
    "def sanity_check (y_train, submission):\n",
    "    print ()\n",
    "    print (\"Sanity Check:\")\n",
    "    print (\"Mean of Y in training data:\", y_train.mean())\n",
    "    print (\"Versus Mean of predicted Y:\", submission['Y'].mean())\n",
    "    print (\"Difference = \", round(abs(y_train.mean() - submission['Y'].mean()),3))\n",
    "    print (\"If these differ by more than 0.01 or so, something may have gone wrong\")"
   ]
  },
  {
   "cell_type": "markdown",
   "metadata": {},
   "source": [
    "# Setup ensemble"
   ]
  },
  {
   "cell_type": "code",
   "execution_count": 10,
   "metadata": {
    "collapsed": false
   },
   "outputs": [],
   "source": [
    "base_models = [\n",
    "    'Ada',\n",
    "    'Chris',\n",
    "    'ChrisNoBag',\n",
    "    'ExtraTrees',\n",
    "    'KNN_2',\n",
    "    'KNN_4',\n",
    "    'KNN_8',\n",
    "    'KNN_16',\n",
    "    'KNN_32',\n",
    "    'KNN_64',\n",
    "    'KNN_128',\n",
    "    'KNN_256',\n",
    "    'KNN_512',\n",
    "    'LogReg',\n",
    "    'RandomForest',\n",
    "    'XGB_Bagged',\n",
    "    'XGB_Clean',\n",
    "    'XGB_Inter',\n",
    "    'XGB_Missing',\n",
    "    'XGB_Raw'\n",
    "]\n",
    "\n",
    "rf_stacker_model = RandomForestClassifier(criterion='entropy', max_depth=5, n_estimators=200, n_jobs=-1)\n",
    "xgb_stacker_model = XGBClassifier(max_depth=6, subsample=1.0, n_estimators=100, \n",
    "                                  gamma=7, objective='binary:logistic', silent=1,\n",
    "                                  reg_lambda=10, learning_rate=0.3,\n",
    "                                  min_child_weight=10, colsample_bytree=1.0, colsample_bylevel=0.25)\n",
    "stacker_models = [rf_stacker_model, xgb_stacker_model]\n",
    "stacker_weights = [0.85, 0.15]"
   ]
  },
  {
   "cell_type": "code",
   "execution_count": 18,
   "metadata": {
    "collapsed": false
   },
   "outputs": [
    {
     "name": "stdout",
     "output_type": "stream",
     "text": [
      "0.0588657462828\n"
     ]
    }
   ],
   "source": [
    "ens = Ensemble (stacker_models, stacker_weights,\n",
    "                base_models, num_train_points=49998, num_test_points=50000)\n",
    "preds = ens.fit_predict(y_train)\n",
    "print (np.mean(preds))"
   ]
  },
  {
   "cell_type": "code",
   "execution_count": 19,
   "metadata": {
    "collapsed": false
   },
   "outputs": [],
   "source": [
    "ens.make_submission ('combined1')"
   ]
  }
 ],
 "metadata": {
  "anaconda-cloud": {},
  "kernelspec": {
   "display_name": "Python [conda env:py35]",
   "language": "python",
   "name": "conda-env-py35-py"
  },
  "language_info": {
   "codemirror_mode": {
    "name": "ipython",
    "version": 3
   },
   "file_extension": ".py",
   "mimetype": "text/x-python",
   "name": "python",
   "nbconvert_exporter": "python",
   "pygments_lexer": "ipython3",
   "version": "3.5.2"
  }
 },
 "nbformat": 4,
 "nbformat_minor": 1
}
